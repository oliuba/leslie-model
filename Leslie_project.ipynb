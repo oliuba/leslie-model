{
 "cells": [
  {
   "cell_type": "code",
   "execution_count": 4,
   "metadata": {},
   "outputs": [],
   "source": [
    "import pandas as pd\n",
    "import re"
   ]
  },
  {
   "cell_type": "code",
   "execution_count": 5,
   "metadata": {},
   "outputs": [],
   "source": [
    "def clean_data_long(filename: str, spaces: bool):\n",
    "    df = pd.read_csv(filename, skipinitialspace=spaces)\n",
    "    females = \"F\"\n",
    "    if spaces:\n",
    "        females += \" \"\n",
    "    df = df[df[\"Sex\"] == females] # remove male cattles\n",
    "    df[\"Number of Cattle\"] = df[\"Number of Cattle\"].str.replace(',', '').astype(int) # convert strings to ints\n",
    "    old_group_num = df.groupby(\"Age Groups\").sum()[\"Number of Cattle\"]\n",
    "\n",
    "    age_groups = old_group_num.index.tolist()\n",
    "    # change order of months names\n",
    "    to_remove = \"6 to 12 months\"\n",
    "    if spaces:\n",
    "        to_remove += \" \"\n",
    "    age_groups.remove(to_remove)\n",
    "    age_groups[1] = to_remove\n",
    "    last_group = \"102+months\"\n",
    "    if spaces:\n",
    "        last_group += \" \"\n",
    "    age_groups.append(last_group)\n",
    "    \n",
    "    # unite months groups to year groups\n",
    "    year_nums = []\n",
    "    for i in range(0, len(age_groups), 2):\n",
    "        year_nums.append(old_group_num.loc[age_groups[i]] + old_group_num.loc[age_groups[i+1]])\n",
    "\n",
    "    return pd.Series(year_nums)\n",
    "\n",
    "data_2015 = clean_data_long(\"data/great-britain-cattle-population-england-on_1-january-2015.csv\", True)\n",
    "data_2014 = clean_data_long(\"data/great-britain-cattle-population-on_1-january-2014.csv\", True)\n",
    "data_2013 = clean_data_long(\"data/gb-cattle-population-on-01-january-2013.csv\", False)\n"
   ]
  },
  {
   "cell_type": "code",
   "execution_count": 42,
   "metadata": {},
   "outputs": [],
   "source": [
    "def clean_data_short(filename, to_add=0):\n",
    "    df = pd.read_csv(filename, skiprows=lambda x: x <= (1+to_add) or x > (21+to_add), usecols=[0,1,2])\n",
    "\n",
    "    df[\"Number of Cattle\"] = df[\"Dairy\"].str.replace(',', '').astype(int) \\\n",
    "        + df[\"Non Dairy\"].str.replace(',', '').astype(int)\n",
    "\n",
    "    df = df.drop(18) # remove total for all ages\n",
    "\n",
    "    age_groups = df[\"Number of Cattle\"]\n",
    "    year_nums = []\n",
    "\n",
    "    for i in range(0, df.shape[0], 2):\n",
    "        year_nums.append(age_groups.loc[i] + age_groups.loc[i+1])\n",
    "\n",
    "    return pd.Series(year_nums)\n",
    "\n",
    "data_2012 = clean_data_short(\"data/great-britain-cattle-population-on_1-january-2012.csv\")\n",
    "data_2011 = clean_data_short(\"data/great-britain-cattle-population-on_1-january-2010-to-1-january-2011.csv\", 24)\n",
    "data_2010 = clean_data_short(\"data/great-britain-cattle-population-on_1-january-2010-to-1-january-2011.csv\")"
   ]
  },
  {
   "cell_type": "code",
   "execution_count": null,
   "metadata": {},
   "outputs": [],
   "source": []
  }
 ],
 "metadata": {
  "kernelspec": {
   "display_name": "Python 3",
   "language": "python",
   "name": "python3"
  },
  "language_info": {
   "codemirror_mode": {
    "name": "ipython",
    "version": 3
   },
   "file_extension": ".py",
   "mimetype": "text/x-python",
   "name": "python",
   "nbconvert_exporter": "python",
   "pygments_lexer": "ipython3",
   "version": "3.7.6"
  }
 },
 "nbformat": 4,
 "nbformat_minor": 4
}
