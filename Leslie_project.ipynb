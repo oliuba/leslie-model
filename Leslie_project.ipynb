{
 "cells": [
  {
   "cell_type": "code",
   "execution_count": 1,
   "metadata": {},
   "outputs": [],
   "source": [
    "import pandas as pd\n",
    "import numpy as np\n",
    "from scipy.optimize import lsq_linear\n",
    "import sympy as sym"
   ]
  },
  {
   "cell_type": "code",
   "execution_count": 2,
   "metadata": {},
   "outputs": [],
   "source": [
    "def clean_data_long(filename: str, spaces: bool, messy: bool):\n",
    "    df = pd.read_csv(filename, skipinitialspace=spaces)\n",
    "    females = \"F\"\n",
    "    if spaces:\n",
    "        females += \" \"\n",
    "    df = df[df[\"Sex\"] == females] # remove male cattles\n",
    "    \n",
    "    df[\"Number of Cattle\"] = df[\"Number of Cattle\"].str.replace(',', '').astype(int) # convert strings to ints\n",
    "    old_group_num = df.groupby(\"Age Groups\").sum()[\"Number of Cattle\"]\n",
    "    \n",
    "    if messy:\n",
    "        old_group_num.drop(old_group_num.index[0], inplace=True)\n",
    "        old_group_num.loc['36 to 42 months '] += old_group_num.loc['366 to 42 months ']\n",
    "        old_group_num.drop('366 to 42 months ', inplace=True)\n",
    "    age_groups = old_group_num.index.tolist()\n",
    "    \n",
    "    # change order of months names\n",
    "    to_remove = \"6 to 12 months\"\n",
    "    if spaces:\n",
    "        to_remove += \" \"\n",
    "    age_groups.remove(to_remove)\n",
    "    age_groups[1] = to_remove\n",
    "    last_group = \"102+months\"\n",
    "    if spaces:\n",
    "        last_group += \" \"\n",
    "    age_groups.append(last_group)\n",
    "    \n",
    "    # unite months groups to year groups\n",
    "    year_nums = []\n",
    "    for i in range(0, len(age_groups), 2):\n",
    "        year_nums.append(old_group_num.loc[age_groups[i]] + old_group_num.loc[age_groups[i+1]])\n",
    "\n",
    "    return pd.Series(year_nums)\n",
    "\n",
    "data_2015 = clean_data_long(\"data/great-britain-cattle-population-england-on_1-january-2015.csv\", True, False)\n",
    "data_2014 = clean_data_long(\"data/great-britain-cattle-population-on_1-january-2014.csv\", True, True)\n",
    "data_2013 = clean_data_long(\"data/gb-cattle-population-on-01-january-2013.csv\", False, False)"
   ]
  },
  {
   "cell_type": "code",
   "execution_count": 3,
   "metadata": {},
   "outputs": [],
   "source": [
    "def clean_data_short(filename, to_add=0):\n",
    "    df = pd.read_csv(filename, skiprows=lambda x: x <= (1+to_add) or x > (21+to_add), usecols=[0,1,2])\n",
    "\n",
    "    df[\"Number of Cattle\"] = df[\"Dairy\"].str.replace(',', '').astype(int) \\\n",
    "        + df[\"Non Dairy\"].str.replace(',', '').astype(int)\n",
    "\n",
    "    df = df.drop(18) # remove total for all ages\n",
    "\n",
    "    age_groups = df[\"Number of Cattle\"]\n",
    "    year_nums = []\n",
    "\n",
    "    for i in range(0, df.shape[0], 2):\n",
    "        year_nums.append(age_groups.loc[i] + age_groups.loc[i+1])\n",
    "\n",
    "    return pd.Series(year_nums)\n",
    "\n",
    "data_2012 = clean_data_short(\"data/great-britain-cattle-population-on_1-january-2012.csv\")\n",
    "data_2011 = clean_data_short(\"data/great-britain-cattle-population-on_1-january-2010-to-1-january-2011.csv\", 24)\n",
    "data_2010 = clean_data_short(\"data/great-britain-cattle-population-on_1-january-2010-to-1-january-2011.csv\")"
   ]
  },
  {
   "cell_type": "code",
   "execution_count": 4,
   "metadata": {},
   "outputs": [
    {
     "data": {
      "text/plain": [
       "0    0.887726\n",
       "1    0.626557\n",
       "2    0.802723\n",
       "3    0.868029\n",
       "4    0.846224\n",
       "5    0.821675\n",
       "6    0.798267\n",
       "7    3.286115\n",
       "dtype: float64"
      ]
     },
     "execution_count": 4,
     "metadata": {},
     "output_type": "execute_result"
    }
   ],
   "source": [
    "data_2010_without_last = data_2010[:-1]\n",
    "data_2011_without_first = data_2011[1:].reset_index(drop=True)\n",
    "survival_rates = data_2011_without_first.div(data_2010_without_last)\n",
    "survival_rates"
   ]
  },
  {
   "cell_type": "markdown",
   "metadata": {},
   "source": [
    "The last rate is greater than 0 because the Leslie model assumes that there is no chance of survival in the last age group, but our dataset unites several last years in 1 group, which makes its size much bigger compared to others."
   ]
  },
  {
   "cell_type": "code",
   "execution_count": 5,
   "metadata": {},
   "outputs": [
    {
     "data": {
      "text/plain": [
       "array([1289890, 1302637, 1289721, 1258521])"
      ]
     },
     "execution_count": 5,
     "metadata": {},
     "output_type": "execute_result"
    }
   ],
   "source": [
    "n_new = np.array([data_2011[0], data_2012[0], data_2013[0], data_2014[0]])\n",
    "n_new"
   ]
  },
  {
   "cell_type": "code",
   "execution_count": 6,
   "metadata": {},
   "outputs": [
    {
     "data": {
      "text/plain": [
       "array([[1258186, 1168933,  711992,  561177,  481494,  425566,  363971,\n",
       "         306653,  990408],\n",
       "       [1289890, 1116925,  732403,  571532,  487118,  407452,  349677,\n",
       "         290546, 1007697],\n",
       "       [1302637, 1116825,  692592,  589895,  484179,  400816,  324702,\n",
       "         268591,  938977],\n",
       "       [1289721, 1147331,  713191,  568217,  496199,  393830,  314057,\n",
       "         243883,  714561]])"
      ]
     },
     "execution_count": 6,
     "metadata": {},
     "output_type": "execute_result"
    }
   ],
   "source": [
    "matrix_old = []\n",
    "for data in (data_2010, data_2011, data_2012, data_2013):\n",
    "    matrix_old.append(data.to_numpy())\n",
    "matrix_old = np.asarray(matrix_old)\n",
    "matrix_old "
   ]
  },
  {
   "cell_type": "code",
   "execution_count": 7,
   "metadata": {},
   "outputs": [
    {
     "data": {
      "text/plain": [
       "array([[-6.18846973e-06,  8.32943477e-07,  5.61637838e-06,\n",
       "         6.86002744e-08],\n",
       "       [ 9.64977137e-06, -1.12362075e-05,  1.64441879e-06,\n",
       "         1.99912694e-07],\n",
       "       [-6.85853755e-06,  1.93753356e-05, -1.73416117e-05,\n",
       "         4.93888403e-06],\n",
       "       [-9.22478434e-07, -6.42271764e-06,  9.27466224e-06,\n",
       "        -1.76859115e-06],\n",
       "       [-1.85857300e-06,  3.05956373e-06, -2.25066660e-06,\n",
       "         1.16547225e-06],\n",
       "       [ 3.65391852e-06, -3.71136396e-06,  3.40731145e-07,\n",
       "        -2.09327085e-07],\n",
       "       [ 2.23017095e-06,  2.87761443e-06, -6.19768733e-06,\n",
       "         1.11620438e-06],\n",
       "       [ 3.21214029e-06, -1.36632717e-08, -3.35915965e-06,\n",
       "         1.71707320e-07],\n",
       "       [ 4.54747517e-07,  9.67948357e-07,  2.40128443e-06,\n",
       "        -3.81151575e-06]])"
      ]
     },
     "execution_count": 7,
     "metadata": {},
     "output_type": "execute_result"
    }
   ],
   "source": [
    "np.linalg.pinv(matrix_old)"
   ]
  },
  {
   "cell_type": "code",
   "execution_count": 8,
   "metadata": {},
   "outputs": [
    {
     "data": {
      "text/plain": [
       "array([0.4324738 , 0.18287974, 0.2421186 , 0.17955221, 0.15218551,\n",
       "       0.05459854, 0.03664139, 0.00922788, 0.14757397])"
      ]
     },
     "execution_count": 8,
     "metadata": {},
     "output_type": "execute_result"
    }
   ],
   "source": [
    "fertility_rates = lsq_linear(matrix_old, n_new, bounds=(0, np.inf)).x\n",
    "fertility_rates"
   ]
  },
  {
   "cell_type": "code",
   "execution_count": 9,
   "metadata": {},
   "outputs": [],
   "source": [
    "def nnls(C, d):\n",
    "    '''Linear least squares with nonnegativity constraints.\n",
    "    returns tuple (x, resnorm, residual) the vector x that minimizes norm(C*x - d)\n",
    "    subject to x >= 0\n",
    "    '''\n",
    "\n",
    "    eps = 2.22e-16\n",
    "    tol = 10 * eps * np.linalg.norm(C,1) * (max(C.shape)+1)\n",
    "    C = np.asarray(C)\n",
    "    (m,n) = C.shape\n",
    "    P = []\n",
    "    R = [x for x in range(0,n)]\n",
    "\n",
    "    x = np.zeros(n)\n",
    "    resid = d - np.dot(C, x)\n",
    "    w = np.dot(C.T, resid)\n",
    "\n",
    "    count = 0\n",
    "\n",
    "    while np.any(R) and np.max(w) > tol:\n",
    "\n",
    "        j = np.argmax(w)\n",
    "        P.append(j)\n",
    "        R.remove(j)\n",
    "\n",
    "        AP = np.zeros(C.shape)\n",
    "        AP[:,P] = C[:,P]\n",
    "\n",
    "        s=np.dot(np.linalg.pinv(AP), d)\n",
    "\n",
    "        s[R] = 0\n",
    "     \n",
    "        while np.min(s) < 0:\n",
    "            i = [i for i in P if s[i] <= 0]\n",
    "\n",
    "            alpha = min(x[i]/(x[i] - s[i]))\n",
    "            x = x + alpha*(s-x)\n",
    "\n",
    "            j = [j for j in P if x[j] == 0]\n",
    "            if j:\n",
    "                R.append(*j)\n",
    "                if j in P:\n",
    "                    P.remove(j)\n",
    "            \n",
    "            AP = np.zeros(C.shape)\n",
    "            AP[:,P] = C[:,P]\n",
    "            s=np.dot(np.linalg.pinv(AP), d)\n",
    "            s[R] = 0\n",
    "     \n",
    "        x = s\n",
    "        resid = d - np.dot(C, x)\n",
    "\n",
    "        w = np.dot(C.T, resid)\n",
    "\n",
    "    return (x, sum(resid * resid), resid)"
   ]
  },
  {
   "cell_type": "code",
   "execution_count": 10,
   "metadata": {},
   "outputs": [
    {
     "data": {
      "text/plain": [
       "(array([0.55412103, 0.23432335, 0.22560577, 0.        , 0.        ,\n",
       "        0.        , 0.        , 0.        , 0.1596967 ]),\n",
       " 3.010287331906003e-16,\n",
       " array([-8.84756446e-09, -8.38190317e-09, -8.61473382e-09, -8.84756446e-09]))"
      ]
     },
     "execution_count": 10,
     "metadata": {},
     "output_type": "execute_result"
    }
   ],
   "source": [
    "fr = nnls(matrix_old, n_new)\n",
    "fr"
   ]
  },
  {
   "cell_type": "code",
   "execution_count": 11,
   "metadata": {},
   "outputs": [
    {
     "data": {
      "text/plain": [
       "array([[0.55412103, 0.23432335, 0.22560577, 0.        , 0.        ,\n",
       "        0.        , 0.        , 0.        , 0.1596967 ],\n",
       "       [0.88772646, 0.        , 0.        , 0.        , 0.        ,\n",
       "        0.        , 0.        , 0.        , 0.        ],\n",
       "       [0.        , 0.62655687, 0.        , 0.        , 0.        ,\n",
       "        0.        , 0.        , 0.        , 0.        ],\n",
       "       [0.        , 0.        , 0.8027225 , 0.        , 0.        ,\n",
       "        0.        , 0.        , 0.        , 0.        ],\n",
       "       [0.        , 0.        , 0.        , 0.86802916, 0.        ,\n",
       "        0.        , 0.        , 0.        , 0.        ],\n",
       "       [0.        , 0.        , 0.        , 0.        , 0.84622446,\n",
       "        0.        , 0.        , 0.        , 0.        ],\n",
       "       [0.        , 0.        , 0.        , 0.        , 0.        ,\n",
       "        0.82167513, 0.        , 0.        , 0.        ],\n",
       "       [0.        , 0.        , 0.        , 0.        , 0.        ,\n",
       "        0.        , 0.79826689, 0.        , 0.        ],\n",
       "       [0.        , 0.        , 0.        , 0.        , 0.        ,\n",
       "        0.        , 0.        , 3.28611492, 0.        ]])"
      ]
     },
     "execution_count": 11,
     "metadata": {},
     "output_type": "execute_result"
    }
   ],
   "source": [
    "leslie_matrix = np.zeros((9, 9))\n",
    "leslie_matrix[0] = fr[0]\n",
    "for i in range(len(survival_rates)):\n",
    "    leslie_matrix[1+i][i] = survival_rates[i]\n",
    "leslie_matrix"
   ]
  },
  {
   "cell_type": "code",
   "execution_count": 12,
   "metadata": {},
   "outputs": [
    {
     "data": {
      "text/plain": [
       "array([1242794.11512353, 1117222.38836309,  719896.2983473 ,\n",
       "        597437.46060068,  510875.09008388,  410551.72019589,\n",
       "        337754.49380825,  253331.59562712,  806544.04711514])"
      ]
     },
     "execution_count": 12,
     "metadata": {},
     "output_type": "execute_result"
    }
   ],
   "source": [
    "found_data_2015 = leslie_matrix @ data_2014\n",
    "found_data_2015"
   ]
  },
  {
   "cell_type": "code",
   "execution_count": 13,
   "metadata": {},
   "outputs": [
    {
     "data": {
      "text/plain": [
       "{x_0: -36315859153530022997*x_4/47302965675958935147 + 63773051392654103710*x_5/47302965675958935147 + 109764656866129470599*x_6/47302965675958935147 + 144733827639295973356*x_7/47302965675958935147 + 747930634193780457829*x_8/47302965675958935147 - 93230484454458235811/47302965675958935147,\n",
       " x_1: -5710787771140112144*x_4/47302965675958935147 - 12923750724465337538*x_5/47302965675958935147 - 7985451765899301886*x_6/47302965675958935147 - 5764709626874342204*x_7/47302965675958935147 + 42310959838267308091*x_8/47302965675958935147 + 4327268647624226713/47302965675958935147,\n",
       " x_2: 5814265095302702528*x_4/47302965675958935147 - 36281030357732475586*x_5/47302965675958935147 - 72231305199053088041*x_6/47302965675958935147 - 85661161750306210042*x_7/47302965675958935147 - 438373026017808338296*x_8/47302965675958935147 + 80678546593087218692/47302965675958935147,\n",
       " x_3: 45354370292635865200*x_4/47302965675958935147 - 105902580216774627548*x_5/47302965675958935147 - 168500656198419124033*x_6/47302965675958935147 - 229658469253746953843*x_7/47302965675958935147 - 1292329653957815307833*x_8/47302965675958935147 + 206380777974865284079/47302965675958935147}"
      ]
     },
     "execution_count": 13,
     "metadata": {},
     "output_type": "execute_result"
    }
   ],
   "source": [
    "num_equations, num_variables = matrix_old.shape\n",
    "\n",
    "x = sym.symarray('x', num_variables)\n",
    "solution = sym.solve([sym.Eq(ax-b, 0) for ax, b in zip(np.dot(matrix_old, x), n_new)])\n",
    "solution\n",
    "# parametrized, but very ugly..."
   ]
  }
 ],
 "metadata": {
  "kernelspec": {
   "display_name": "Python 3 (ipykernel)",
   "language": "python",
   "name": "python3"
  },
  "language_info": {
   "codemirror_mode": {
    "name": "ipython",
    "version": 3
   },
   "file_extension": ".py",
   "mimetype": "text/x-python",
   "name": "python",
   "nbconvert_exporter": "python",
   "pygments_lexer": "ipython3",
   "version": "3.10.4"
  }
 },
 "nbformat": 4,
 "nbformat_minor": 4
}
