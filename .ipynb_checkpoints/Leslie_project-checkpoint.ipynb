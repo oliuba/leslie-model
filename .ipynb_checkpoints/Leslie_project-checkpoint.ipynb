{
 "cells": [
  {
   "cell_type": "code",
   "execution_count": 7,
   "metadata": {},
   "outputs": [],
   "source": [
    "import pandas as pd\n",
    "import re"
   ]
  },
  {
   "cell_type": "code",
   "execution_count": 53,
   "metadata": {},
   "outputs": [
    {
     "name": "stdout",
     "output_type": "stream",
     "text": [
      "0    1289721\n",
      "1    1147331\n",
      "2     713191\n",
      "3     568217\n",
      "4     496199\n",
      "5     393830\n",
      "6     314057\n",
      "7     243883\n",
      "8     714561\n",
      "dtype: int64\n",
      "0     725768\n",
      "1    1087280\n",
      "2    1024709\n",
      "3     658205\n",
      "4     299544\n",
      "5     485157\n",
      "6     411056\n",
      "7     317352\n",
      "8     245440\n",
      "9     678035\n",
      "dtype: int64\n"
     ]
    }
   ],
   "source": [
    "def clean_data(filename: str, spaces: bool):\n",
    "    df = pd.read_csv(filename, skipinitialspace=spaces)\n",
    "    females = \"F\"\n",
    "    if spaces:\n",
    "        females += \" \"\n",
    "    df = df[df[\"Sex\"] == females] # remove male cattles\n",
    "    df[\"Number of Cattle\"] = df[\"Number of Cattle\"].str.replace(',', '').astype(int) # convert strings to ints\n",
    "    old_group_num = df.groupby(\"Age Groups\").sum()[\"Number of Cattle\"]\n",
    "\n",
    "    age_groups = old_group_num.index.tolist()\n",
    "    # change order of months names\n",
    "    to_remove = \"6 to 12 months\"\n",
    "    if spaces:\n",
    "        to_remove += \" \"\n",
    "    age_groups.remove(to_remove)\n",
    "    age_groups[1] = to_remove\n",
    "    last_group = \"102+months\"\n",
    "    if spaces:\n",
    "        last_group += \" \"\n",
    "    age_groups.append(last_group)\n",
    "    \n",
    "    # unite months groups to year groups\n",
    "    year_nums = []\n",
    "    for i in range(0, len(age_groups), 2):\n",
    "        year_nums.append(old_group_num.loc[age_groups[i]] + old_group_num.loc[age_groups[i+1]])\n",
    "\n",
    "    return pd.Series(year_nums)\n",
    "\n",
    "data_2015 = clean_data(\"data/great-britain-cattle-population-england-on_1-january-2015.csv\", True)\n",
    "data_2014 = clean_data(\"data/great-britain-cattle-population-on_1-january-2014.csv\", True)\n",
    "data_2013 = clean_data(\"data/gb-cattle-population-on-01-january-2013.csv\", False)\n",
    "# data_2012 = clean_data(\"data/great-britain-cattle-population-on_1-january-2012.csv\", True)"
   ]
  },
  {
   "cell_type": "code",
   "execution_count": null,
   "metadata": {},
   "outputs": [],
   "source": []
  }
 ],
 "metadata": {
  "kernelspec": {
   "display_name": "Python 3",
   "language": "python",
   "name": "python3"
  },
  "language_info": {
   "codemirror_mode": {
    "name": "ipython",
    "version": 3
   },
   "file_extension": ".py",
   "mimetype": "text/x-python",
   "name": "python",
   "nbconvert_exporter": "python",
   "pygments_lexer": "ipython3",
   "version": "3.7.6"
  }
 },
 "nbformat": 4,
 "nbformat_minor": 4
}
